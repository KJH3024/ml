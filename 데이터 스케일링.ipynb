{
 "cells": [
  {
   "cell_type": "markdown",
   "id": "dd6fcdad",
   "metadata": {},
   "source": [
    "### Standard, min-max, robust 비교 고찰"
   ]
  },
  {
   "cell_type": "code",
   "execution_count": 3,
   "id": "7115e5d6",
   "metadata": {
    "ExecuteTime": {
     "end_time": "2022-07-01T05:47:07.219634Z",
     "start_time": "2022-07-01T05:47:07.195630Z"
    }
   },
   "outputs": [],
   "source": [
    "import pandas as pd\n",
    "import numpy as np\n",
    "from sklearn.preprocessing import StandardScaler, MinMaxScaler, RobustScaler\n",
    "import matplotlib.pyplot as plt\n",
    "import seaborn as sns\n",
    "%matplotlib inline\n",
    "\n",
    "# data\n",
    "x = pd.DataFrame({\n",
    "    # Distribution with lower outliers\n",
    "    'x1': np.concatenate([np.random.normal(20, 2, 1000), np.random.normal(1, 2, 25)]),\n",
    "    # Distribution with higher outliers\n",
    "    'x2': np.concatenate([np.random.normal(30, 2, 1000), np.random.normal(50, 2, 25)]),\n",
    "})"
   ]
  },
  {
   "cell_type": "code",
   "execution_count": 6,
   "id": "87423cee",
   "metadata": {
    "ExecuteTime": {
     "end_time": "2022-07-01T05:50:09.691875Z",
     "start_time": "2022-07-01T05:50:09.669873Z"
    }
   },
   "outputs": [],
   "source": [
    "scaler = StandardScaler()\n",
    "standard_df = scaler.fit_transform(x)\n",
    "standard_df = pd.DataFrame(standard_df, columns=['x1','x2'])"
   ]
  },
  {
   "cell_type": "code",
   "execution_count": 7,
   "id": "63026d33",
   "metadata": {
    "ExecuteTime": {
     "end_time": "2022-07-01T05:50:15.963019Z",
     "start_time": "2022-07-01T05:50:15.952022Z"
    }
   },
   "outputs": [
    {
     "data": {
      "text/html": [
       "<div>\n",
       "<style scoped>\n",
       "    .dataframe tbody tr th:only-of-type {\n",
       "        vertical-align: middle;\n",
       "    }\n",
       "\n",
       "    .dataframe tbody tr th {\n",
       "        vertical-align: top;\n",
       "    }\n",
       "\n",
       "    .dataframe thead th {\n",
       "        text-align: right;\n",
       "    }\n",
       "</style>\n",
       "<table border=\"1\" class=\"dataframe\">\n",
       "  <thead>\n",
       "    <tr style=\"text-align: right;\">\n",
       "      <th></th>\n",
       "      <th>x1</th>\n",
       "      <th>x2</th>\n",
       "    </tr>\n",
       "  </thead>\n",
       "  <tbody>\n",
       "    <tr>\n",
       "      <th>0</th>\n",
       "      <td>-0.375565</td>\n",
       "      <td>-0.025896</td>\n",
       "    </tr>\n",
       "    <tr>\n",
       "      <th>1</th>\n",
       "      <td>-0.025933</td>\n",
       "      <td>1.041026</td>\n",
       "    </tr>\n",
       "    <tr>\n",
       "      <th>2</th>\n",
       "      <td>0.294373</td>\n",
       "      <td>1.047706</td>\n",
       "    </tr>\n",
       "    <tr>\n",
       "      <th>3</th>\n",
       "      <td>-0.081478</td>\n",
       "      <td>-0.119291</td>\n",
       "    </tr>\n",
       "    <tr>\n",
       "      <th>4</th>\n",
       "      <td>-0.100940</td>\n",
       "      <td>-0.463856</td>\n",
       "    </tr>\n",
       "    <tr>\n",
       "      <th>...</th>\n",
       "      <td>...</td>\n",
       "      <td>...</td>\n",
       "    </tr>\n",
       "    <tr>\n",
       "      <th>1020</th>\n",
       "      <td>-5.619845</td>\n",
       "      <td>5.357158</td>\n",
       "    </tr>\n",
       "    <tr>\n",
       "      <th>1021</th>\n",
       "      <td>-5.138879</td>\n",
       "      <td>4.707969</td>\n",
       "    </tr>\n",
       "    <tr>\n",
       "      <th>1022</th>\n",
       "      <td>-4.100589</td>\n",
       "      <td>7.059522</td>\n",
       "    </tr>\n",
       "    <tr>\n",
       "      <th>1023</th>\n",
       "      <td>-5.223988</td>\n",
       "      <td>4.761648</td>\n",
       "    </tr>\n",
       "    <tr>\n",
       "      <th>1024</th>\n",
       "      <td>-5.114199</td>\n",
       "      <td>5.355653</td>\n",
       "    </tr>\n",
       "  </tbody>\n",
       "</table>\n",
       "<p>1025 rows × 2 columns</p>\n",
       "</div>"
      ],
      "text/plain": [
       "            x1        x2\n",
       "0    -0.375565 -0.025896\n",
       "1    -0.025933  1.041026\n",
       "2     0.294373  1.047706\n",
       "3    -0.081478 -0.119291\n",
       "4    -0.100940 -0.463856\n",
       "...        ...       ...\n",
       "1020 -5.619845  5.357158\n",
       "1021 -5.138879  4.707969\n",
       "1022 -4.100589  7.059522\n",
       "1023 -5.223988  4.761648\n",
       "1024 -5.114199  5.355653\n",
       "\n",
       "[1025 rows x 2 columns]"
      ]
     },
     "execution_count": 7,
     "metadata": {},
     "output_type": "execute_result"
    }
   ],
   "source": [
    "standard_df"
   ]
  },
  {
   "cell_type": "code",
   "execution_count": 8,
   "id": "1caaabd7",
   "metadata": {
    "ExecuteTime": {
     "end_time": "2022-07-01T05:55:13.301715Z",
     "start_time": "2022-07-01T05:55:13.287700Z"
    }
   },
   "outputs": [],
   "source": [
    "scaler = MinMaxScaler()\n",
    "minmax_df = scaler.fit_transform(x)\n",
    "minmax_df = pd.DataFrame(minmax_df, columns=['x1','x2'])"
   ]
  },
  {
   "cell_type": "code",
   "execution_count": 9,
   "id": "90b4ba87",
   "metadata": {
    "ExecuteTime": {
     "end_time": "2022-07-01T05:55:18.110678Z",
     "start_time": "2022-07-01T05:55:18.094668Z"
    }
   },
   "outputs": [
    {
     "data": {
      "text/html": [
       "<div>\n",
       "<style scoped>\n",
       "    .dataframe tbody tr th:only-of-type {\n",
       "        vertical-align: middle;\n",
       "    }\n",
       "\n",
       "    .dataframe tbody tr th {\n",
       "        vertical-align: top;\n",
       "    }\n",
       "\n",
       "    .dataframe thead th {\n",
       "        text-align: right;\n",
       "    }\n",
       "</style>\n",
       "<table border=\"1\" class=\"dataframe\">\n",
       "  <thead>\n",
       "    <tr style=\"text-align: right;\">\n",
       "      <th></th>\n",
       "      <th>x1</th>\n",
       "      <th>x2</th>\n",
       "    </tr>\n",
       "  </thead>\n",
       "  <tbody>\n",
       "    <tr>\n",
       "      <th>0</th>\n",
       "      <td>0.705606</td>\n",
       "      <td>0.228356</td>\n",
       "    </tr>\n",
       "    <tr>\n",
       "      <th>1</th>\n",
       "      <td>0.750239</td>\n",
       "      <td>0.344551</td>\n",
       "    </tr>\n",
       "    <tr>\n",
       "      <th>2</th>\n",
       "      <td>0.791128</td>\n",
       "      <td>0.345278</td>\n",
       "    </tr>\n",
       "    <tr>\n",
       "      <th>3</th>\n",
       "      <td>0.743148</td>\n",
       "      <td>0.218185</td>\n",
       "    </tr>\n",
       "    <tr>\n",
       "      <th>4</th>\n",
       "      <td>0.740664</td>\n",
       "      <td>0.180660</td>\n",
       "    </tr>\n",
       "    <tr>\n",
       "      <th>...</th>\n",
       "      <td>...</td>\n",
       "      <td>...</td>\n",
       "    </tr>\n",
       "    <tr>\n",
       "      <th>1020</th>\n",
       "      <td>0.036138</td>\n",
       "      <td>0.814603</td>\n",
       "    </tr>\n",
       "    <tr>\n",
       "      <th>1021</th>\n",
       "      <td>0.097537</td>\n",
       "      <td>0.743902</td>\n",
       "    </tr>\n",
       "    <tr>\n",
       "      <th>1022</th>\n",
       "      <td>0.230081</td>\n",
       "      <td>1.000000</td>\n",
       "    </tr>\n",
       "    <tr>\n",
       "      <th>1023</th>\n",
       "      <td>0.086672</td>\n",
       "      <td>0.749748</td>\n",
       "    </tr>\n",
       "    <tr>\n",
       "      <th>1024</th>\n",
       "      <td>0.100687</td>\n",
       "      <td>0.814439</td>\n",
       "    </tr>\n",
       "  </tbody>\n",
       "</table>\n",
       "<p>1025 rows × 2 columns</p>\n",
       "</div>"
      ],
      "text/plain": [
       "            x1        x2\n",
       "0     0.705606  0.228356\n",
       "1     0.750239  0.344551\n",
       "2     0.791128  0.345278\n",
       "3     0.743148  0.218185\n",
       "4     0.740664  0.180660\n",
       "...        ...       ...\n",
       "1020  0.036138  0.814603\n",
       "1021  0.097537  0.743902\n",
       "1022  0.230081  1.000000\n",
       "1023  0.086672  0.749748\n",
       "1024  0.100687  0.814439\n",
       "\n",
       "[1025 rows x 2 columns]"
      ]
     },
     "execution_count": 9,
     "metadata": {},
     "output_type": "execute_result"
    }
   ],
   "source": [
    "minmax_df"
   ]
  },
  {
   "cell_type": "code",
   "execution_count": 10,
   "id": "625d6fad",
   "metadata": {
    "ExecuteTime": {
     "end_time": "2022-07-01T05:56:02.366964Z",
     "start_time": "2022-07-01T05:56:02.356961Z"
    }
   },
   "outputs": [],
   "source": [
    "scaler = RobustScaler()\n",
    "robust_df = scaler.fit_transform(x)\n",
    "robust_df = pd.DataFrame(robust_df, columns=['x1','x2'])"
   ]
  },
  {
   "cell_type": "code",
   "execution_count": 11,
   "id": "f5d26e69",
   "metadata": {
    "ExecuteTime": {
     "end_time": "2022-07-01T05:56:05.394670Z",
     "start_time": "2022-07-01T05:56:05.374663Z"
    }
   },
   "outputs": [
    {
     "data": {
      "text/html": [
       "<div>\n",
       "<style scoped>\n",
       "    .dataframe tbody tr th:only-of-type {\n",
       "        vertical-align: middle;\n",
       "    }\n",
       "\n",
       "    .dataframe tbody tr th {\n",
       "        vertical-align: top;\n",
       "    }\n",
       "\n",
       "    .dataframe thead th {\n",
       "        text-align: right;\n",
       "    }\n",
       "</style>\n",
       "<table border=\"1\" class=\"dataframe\">\n",
       "  <thead>\n",
       "    <tr style=\"text-align: right;\">\n",
       "      <th></th>\n",
       "      <th>x1</th>\n",
       "      <th>x2</th>\n",
       "    </tr>\n",
       "  </thead>\n",
       "  <tbody>\n",
       "    <tr>\n",
       "      <th>0</th>\n",
       "      <td>-0.622072</td>\n",
       "      <td>0.079105</td>\n",
       "    </tr>\n",
       "    <tr>\n",
       "      <th>1</th>\n",
       "      <td>-0.171400</td>\n",
       "      <td>1.382904</td>\n",
       "    </tr>\n",
       "    <tr>\n",
       "      <th>2</th>\n",
       "      <td>0.241470</td>\n",
       "      <td>1.391067</td>\n",
       "    </tr>\n",
       "    <tr>\n",
       "      <th>3</th>\n",
       "      <td>-0.242997</td>\n",
       "      <td>-0.035025</td>\n",
       "    </tr>\n",
       "    <tr>\n",
       "      <th>4</th>\n",
       "      <td>-0.268083</td>\n",
       "      <td>-0.456090</td>\n",
       "    </tr>\n",
       "    <tr>\n",
       "      <th>...</th>\n",
       "      <td>...</td>\n",
       "      <td>...</td>\n",
       "    </tr>\n",
       "    <tr>\n",
       "      <th>1020</th>\n",
       "      <td>-7.381887</td>\n",
       "      <td>6.657297</td>\n",
       "    </tr>\n",
       "    <tr>\n",
       "      <th>1021</th>\n",
       "      <td>-6.761927</td>\n",
       "      <td>5.863975</td>\n",
       "    </tr>\n",
       "    <tr>\n",
       "      <th>1022</th>\n",
       "      <td>-5.423584</td>\n",
       "      <td>8.737617</td>\n",
       "    </tr>\n",
       "    <tr>\n",
       "      <th>1023</th>\n",
       "      <td>-6.871631</td>\n",
       "      <td>5.929572</td>\n",
       "    </tr>\n",
       "    <tr>\n",
       "      <th>1024</th>\n",
       "      <td>-6.730115</td>\n",
       "      <td>6.655458</td>\n",
       "    </tr>\n",
       "  </tbody>\n",
       "</table>\n",
       "<p>1025 rows × 2 columns</p>\n",
       "</div>"
      ],
      "text/plain": [
       "            x1        x2\n",
       "0    -0.622072  0.079105\n",
       "1    -0.171400  1.382904\n",
       "2     0.241470  1.391067\n",
       "3    -0.242997 -0.035025\n",
       "4    -0.268083 -0.456090\n",
       "...        ...       ...\n",
       "1020 -7.381887  6.657297\n",
       "1021 -6.761927  5.863975\n",
       "1022 -5.423584  8.737617\n",
       "1023 -6.871631  5.929572\n",
       "1024 -6.730115  6.655458\n",
       "\n",
       "[1025 rows x 2 columns]"
      ]
     },
     "execution_count": 11,
     "metadata": {},
     "output_type": "execute_result"
    }
   ],
   "source": [
    "robust_df"
   ]
  },
  {
   "cell_type": "code",
   "execution_count": 21,
   "id": "8fab6542",
   "metadata": {
    "ExecuteTime": {
     "end_time": "2022-07-01T06:13:57.282777Z",
     "start_time": "2022-07-01T06:13:56.897700Z"
    },
    "scrolled": false
   },
   "outputs": [
    {
     "data": {
      "image/png": "[encoded data removed]",
      "text/plain": [
       "<Figure size 1440x360 with 4 Axes>"
      ]
     },
     "metadata": {
      "needs_background": "light"
     },
     "output_type": "display_data"
    }
   ],
   "source": [
    "fig , (ax1, ax2, ax3, ax4) = plt.subplots(ncols=4, figsize=(20,5))\n",
    "ax1.set_title(\"Before Scaling\")\n",
    "sns.kdeplot(x['x1'], ax=ax1, color='r')\n",
    "sns.kdeplot(x['x2'], ax=ax1, color='b')\n",
    "\n",
    "ax2.set_title(\"Standard Scaling\")\n",
    "sns.kdeplot(standard_df['x1'], ax=ax2, color='r')\n",
    "sns.kdeplot(standard_df['x2'], ax=ax2, color='b')\n",
    "\n",
    "ax3.set_title(\"MinMax Scaling\")\n",
    "sns.kdeplot(minmax_df['x1'], ax=ax3, color='r')\n",
    "sns.kdeplot(minmax_df['x2'], ax=ax3, color='b')\n",
    "\n",
    "ax4.set_title(\"Robust Scaling\")\n",
    "sns.kdeplot(robust_df['x1'], ax=ax4, color='r')\n",
    "sns.kdeplot(robust_df['x2'], ax=ax4, color='b')\n",
    "\n",
    "plt.show()"
   ]
  },
  {
   "cell_type": "code",
   "execution_count": 22,
   "id": "c2890526",
   "metadata": {
    "ExecuteTime": {
     "end_time": "2022-07-01T06:24:53.286386Z",
     "start_time": "2022-07-01T06:24:53.049327Z"
    }
   },
   "outputs": [
    {
     "name": "stdout",
     "output_type": "stream",
     "text": [
      "feature 들의 평균 값\n",
      "sepal length (cm)    5.843333\n",
      "sepal width (cm)     3.057333\n",
      "petal length (cm)    3.758000\n",
      "petal width (cm)     1.199333\n",
      "dtype: float64\n",
      "\n",
      "feature 들의 분산 값\n",
      "sepal length (cm)    0.685694\n",
      "sepal width (cm)     0.189979\n",
      "petal length (cm)    3.116278\n",
      "petal width (cm)     0.581006\n",
      "dtype: float64\n"
     ]
    }
   ],
   "source": [
    "from sklearn.datasets import load_iris\n",
    "import pandas as pd\n",
    "# 붓꽃 데이터 셋을 로딩하고 DataFrame으로 변환합니다. \n",
    "iris = load_iris()\n",
    "iris_data = iris.data\n",
    "iris_df = pd.DataFrame(data=iris_data, columns=iris.feature_names)\n",
    "\n",
    "print('feature 들의 평균 값')\n",
    "print(iris_df.mean())\n",
    "print('\\nfeature 들의 분산 값')\n",
    "print(iris_df.var())"
   ]
  },
  {
   "cell_type": "markdown",
   "id": "d1185df8",
   "metadata": {},
   "source": [
    "### StandardScaler\n",
    "* from sklearn.preprocessing import StandardScaler\n",
    "* StandardScaler(*, copy=True, with_mean=True, with_std=True)\n",
    "* fit(X[, y, sample_weight])\n",
    "    * Compute the mean and std to be used for later scaling.\n",
    "* fit_transform(X[, y])\n",
    "    * Fit to data, then transform it.\n",
    "* get_feature_names_out([input_features])\n",
    "    * Get output feature names for transformation.\n",
    "* get_params([deep])\n",
    "    * Get parameters for this estimator.\n",
    "* inverse_transform(X[, copy])\n",
    "    * Scale back the data to the original representation.\n",
    "* partial_fit(X[, y, sample_weight])\n",
    "    * Online computation of mean and std on X for later scaling.\n",
    "* set_params(**params)\n",
    "    * Set the parameters of this estimator.\n",
    "* transform(X[, copy])\n",
    "    * Perform standardization by centering and scaling.\n",
    "* https://scikit-learn.org/stable/modules/generated/sklearn.preprocessing.StandardScaler.html?highlight=standardscaler#sklearn.preprocessing.StandardScaler"
   ]
  },
  {
   "cell_type": "code",
   "execution_count": 29,
   "id": "54221f38",
   "metadata": {
    "ExecuteTime": {
     "end_time": "2022-07-01T07:13:10.313965Z",
     "start_time": "2022-07-01T07:13:10.294964Z"
    }
   },
   "outputs": [
    {
     "name": "stdout",
     "output_type": "stream",
     "text": [
      "feature 들의 평균 값\n",
      "sepal length (cm)   -1.690315e-15\n",
      "sepal width (cm)    -1.842970e-15\n",
      "petal length (cm)   -1.698641e-15\n",
      "petal width (cm)    -1.409243e-15\n",
      "dtype: float64\n",
      "\n",
      "feature 들의 분산 값\n",
      "sepal length (cm)    1.00335\n",
      "sepal width (cm)     1.00335\n",
      "petal length (cm)    1.00335\n",
      "petal width (cm)     1.00335\n",
      "dtype: float64\n"
     ]
    }
   ],
   "source": [
    "from sklearn.preprocessing import StandardScaler\n",
    "\n",
    "# StandardScaler객체 생성\n",
    "scaler = StandardScaler()\n",
    "# StandardScaler 로 데이터 셋 변환. fit( ) 과 transform( ) 호출.  \n",
    "scaler.fit(iris_df)\n",
    "iris_scaled = scaler.transform(iris_df)\n",
    "\n",
    "#transform( )시 scale 변환된 데이터 셋이 numpy ndarry로 반환되어 이를 DataFrame으로 변환\n",
    "iris_df_scaled = pd.DataFrame(data=iris_scaled, columns=iris.feature_names)\n",
    "print('feature 들의 평균 값')\n",
    "print(iris_df_scaled.mean())\n",
    "print('\\nfeature 들의 분산 값')\n",
    "print(iris_df_scaled.std())"
   ]
  },
  {
   "cell_type": "markdown",
   "id": "c6817deb",
   "metadata": {},
   "source": [
    "### MinMaxScaler\n",
    "* from sklearn.preprocessing import MinMaxScaler\n",
    "* MinMaxScaler(feature_range=(0, 1), *, copy=True, clip=False)\n",
    "* https://scikit-learn.org/stable/modules/generated/sklearn.preprocessing.MinMaxScaler.html?highlight=minmaxscale#sklearn.preprocessing.MinMaxScaler"
   ]
  },
  {
   "cell_type": "code",
   "execution_count": 40,
   "id": "66843c57",
   "metadata": {
    "ExecuteTime": {
     "end_time": "2022-07-01T07:27:00.505301Z",
     "start_time": "2022-07-01T07:27:00.492304Z"
    }
   },
   "outputs": [
    {
     "name": "stdout",
     "output_type": "stream",
     "text": [
      "feature들의 최소 값\n",
      "sepal length (cm)    0.0\n",
      "sepal width (cm)     0.0\n",
      "petal length (cm)    0.0\n",
      "petal width (cm)     0.0\n",
      "dtype: float64\n",
      "\n",
      "feature들의 최대 값\n",
      "sepal length (cm)    1.0\n",
      "sepal width (cm)     1.0\n",
      "petal length (cm)    1.0\n",
      "petal width (cm)     1.0\n",
      "dtype: float64\n"
     ]
    }
   ],
   "source": [
    "from sklearn.preprocessing import MinMaxScaler\n",
    "\n",
    "# MinMaxScaler객체 생성\n",
    "scaler = MinMaxScaler()\n",
    "# MinMaxScaler 로 데이터 셋 변환. fit() 과 transform() 호출.  \n",
    "scaler.fit(iris_df)\n",
    "iris_df_mscaled = scaler.transform(iris_df)\n",
    "\n",
    "# transform()시 scale 변환된 데이터 셋이 numpy ndarry로 반환되어 이를 DataFrame으로 변환\n",
    "iris_df_mscaled = pd.DataFrame(data=iris_df_mscaled, columns=iris.feature_names)\n",
    "print('feature들의 최소 값')\n",
    "print(iris_df_mscaled.min())\n",
    "print('\\nfeature들의 최대 값')\n",
    "print(iris_df_mscaled.max())"
   ]
  },
  {
   "cell_type": "markdown",
   "id": "09068fff",
   "metadata": {},
   "source": [
    "### RobustScaler\n",
    "* from sklearn.preprocessing import RobustScaler\n",
    "* RobustScaler(*, with_centering=True, with_scaling=True, quantile_range=(25.0, 75.0), copy=True, unit_variance=False)\n",
    "* https://scikit-learn.org/stable/modules/generated/sklearn.preprocessing.RobustScaler.html?highlight=robust%20sca#sklearn.preprocessing.RobustScaler"
   ]
  },
  {
   "cell_type": "code",
   "execution_count": 35,
   "id": "67089448",
   "metadata": {
    "ExecuteTime": {
     "end_time": "2022-07-01T07:16:41.151984Z",
     "start_time": "2022-07-01T07:16:41.127467Z"
    }
   },
   "outputs": [
    {
     "name": "stdout",
     "output_type": "stream",
     "text": [
      "feature들의 중앙 값\n",
      "sepal length (cm)    0.000000e+00\n",
      "sepal width (cm)     0.000000e+00\n",
      "petal length (cm)    1.266348e-16\n",
      "petal width (cm)     0.000000e+00\n",
      "dtype: float64\n",
      "\n",
      "feature들의 IQR 값\n",
      "sepal length (cm)    0.000000e+00\n",
      "sepal width (cm)     0.000000e+00\n",
      "petal length (cm)    1.266348e-16\n",
      "petal width (cm)     0.000000e+00\n",
      "Name: 0.5, dtype: float64\n"
     ]
    }
   ],
   "source": [
    "from sklearn.preprocessing import RobustScaler\n",
    "\n",
    "# RobustScaler객체 생성\n",
    "scaler = RobustScaler()\n",
    "# RobustScaler 로 데이터 셋 변환. fit() 과 transform() 호출.  \n",
    "scaler.fit(iris_df)\n",
    "iris_scaled = scaler.transform(iris_df)\n",
    "\n",
    "# transform()시 scale 변환된 데이터 셋이 numpy ndarry로 반환되어 이를 DataFrame으로 변환\n",
    "iris_df_scaled = pd.DataFrame(data=iris_scaled, columns=iris.feature_names)\n",
    "print('feature들의 중앙 값')\n",
    "print(iris_df_scaled.median())\n",
    "print('\\nfeature들의 IQR 값')\n",
    "print(iris_df_scaled.quantile())"
   ]
  },
  {
   "cell_type": "code",
   "execution_count": 36,
   "id": "63f6381a",
   "metadata": {
    "ExecuteTime": {
     "end_time": "2022-07-01T07:21:46.954725Z",
     "start_time": "2022-07-01T07:21:46.936729Z"
    }
   },
   "outputs": [
    {
     "data": {
      "text/html": [
       "<div>\n",
       "<style scoped>\n",
       "    .dataframe tbody tr th:only-of-type {\n",
       "        vertical-align: middle;\n",
       "    }\n",
       "\n",
       "    .dataframe tbody tr th {\n",
       "        vertical-align: top;\n",
       "    }\n",
       "\n",
       "    .dataframe thead th {\n",
       "        text-align: right;\n",
       "    }\n",
       "</style>\n",
       "<table border=\"1\" class=\"dataframe\">\n",
       "  <thead>\n",
       "    <tr style=\"text-align: right;\">\n",
       "      <th></th>\n",
       "      <th>sepal length (cm)</th>\n",
       "      <th>sepal width (cm)</th>\n",
       "      <th>petal length (cm)</th>\n",
       "      <th>petal width (cm)</th>\n",
       "    </tr>\n",
       "  </thead>\n",
       "  <tbody>\n",
       "    <tr>\n",
       "      <th>0</th>\n",
       "      <td>-0.538462</td>\n",
       "      <td>1.0</td>\n",
       "      <td>-0.842857</td>\n",
       "      <td>-0.733333</td>\n",
       "    </tr>\n",
       "    <tr>\n",
       "      <th>1</th>\n",
       "      <td>-0.692308</td>\n",
       "      <td>0.0</td>\n",
       "      <td>-0.842857</td>\n",
       "      <td>-0.733333</td>\n",
       "    </tr>\n",
       "    <tr>\n",
       "      <th>2</th>\n",
       "      <td>-0.846154</td>\n",
       "      <td>0.4</td>\n",
       "      <td>-0.871429</td>\n",
       "      <td>-0.733333</td>\n",
       "    </tr>\n",
       "    <tr>\n",
       "      <th>3</th>\n",
       "      <td>-0.923077</td>\n",
       "      <td>0.2</td>\n",
       "      <td>-0.814286</td>\n",
       "      <td>-0.733333</td>\n",
       "    </tr>\n",
       "    <tr>\n",
       "      <th>4</th>\n",
       "      <td>-0.615385</td>\n",
       "      <td>1.2</td>\n",
       "      <td>-0.842857</td>\n",
       "      <td>-0.733333</td>\n",
       "    </tr>\n",
       "    <tr>\n",
       "      <th>...</th>\n",
       "      <td>...</td>\n",
       "      <td>...</td>\n",
       "      <td>...</td>\n",
       "      <td>...</td>\n",
       "    </tr>\n",
       "    <tr>\n",
       "      <th>145</th>\n",
       "      <td>0.692308</td>\n",
       "      <td>0.0</td>\n",
       "      <td>0.242857</td>\n",
       "      <td>0.666667</td>\n",
       "    </tr>\n",
       "    <tr>\n",
       "      <th>146</th>\n",
       "      <td>0.384615</td>\n",
       "      <td>-1.0</td>\n",
       "      <td>0.185714</td>\n",
       "      <td>0.400000</td>\n",
       "    </tr>\n",
       "    <tr>\n",
       "      <th>147</th>\n",
       "      <td>0.538462</td>\n",
       "      <td>0.0</td>\n",
       "      <td>0.242857</td>\n",
       "      <td>0.466667</td>\n",
       "    </tr>\n",
       "    <tr>\n",
       "      <th>148</th>\n",
       "      <td>0.307692</td>\n",
       "      <td>0.8</td>\n",
       "      <td>0.300000</td>\n",
       "      <td>0.666667</td>\n",
       "    </tr>\n",
       "    <tr>\n",
       "      <th>149</th>\n",
       "      <td>0.076923</td>\n",
       "      <td>0.0</td>\n",
       "      <td>0.214286</td>\n",
       "      <td>0.333333</td>\n",
       "    </tr>\n",
       "  </tbody>\n",
       "</table>\n",
       "<p>150 rows × 4 columns</p>\n",
       "</div>"
      ],
      "text/plain": [
       "     sepal length (cm)  sepal width (cm)  petal length (cm)  petal width (cm)\n",
       "0            -0.538462               1.0          -0.842857         -0.733333\n",
       "1            -0.692308               0.0          -0.842857         -0.733333\n",
       "2            -0.846154               0.4          -0.871429         -0.733333\n",
       "3            -0.923077               0.2          -0.814286         -0.733333\n",
       "4            -0.615385               1.2          -0.842857         -0.733333\n",
       "..                 ...               ...                ...               ...\n",
       "145           0.692308               0.0           0.242857          0.666667\n",
       "146           0.384615              -1.0           0.185714          0.400000\n",
       "147           0.538462               0.0           0.242857          0.466667\n",
       "148           0.307692               0.8           0.300000          0.666667\n",
       "149           0.076923               0.0           0.214286          0.333333\n",
       "\n",
       "[150 rows x 4 columns]"
      ]
     },
     "execution_count": 36,
     "metadata": {},
     "output_type": "execute_result"
    }
   ],
   "source": [
    "from sklearn.preprocessing import RobustScaler\n",
    "rbscaler = RobustScaler()\n",
    "rbscaler.fit(iris_df)\n",
    "iris_rbscaled = rbscaler.transform(iris_df)\n",
    "iris_df_rbscaled = pd.DataFrame(data=iris_rbscaled, columns=iris.feature_names)\n",
    "iris_df_rbscaled"
   ]
  },
  {
   "cell_type": "code",
   "execution_count": 41,
   "id": "c52cd82e",
   "metadata": {
    "ExecuteTime": {
     "end_time": "2022-07-01T07:27:18.595514Z",
     "start_time": "2022-07-01T07:27:18.174427Z"
    }
   },
   "outputs": [
    {
     "data": {
      "image/png": "[encoded data removed]",
      "text/plain": [
       "<Figure size 1440x360 with 4 Axes>"
      ]
     },
     "metadata": {
      "needs_background": "light"
     },
     "output_type": "display_data"
    }
   ],
   "source": [
    "from sklearn.preprocessing import RobustScaler\n",
    "rbscaler = RobustScaler()\n",
    "rbscaler.fit(iris_df)\n",
    "iris_rbscaled = rbscaler.transform(iris_df)\n",
    "iris_df_rbscaled = pd.DataFrame(data=iris_rbscaled, columns=iris.feature_names)\n",
    "iris_df_rbscaled\n",
    "\n",
    "import matplotlib.pyplot as plt\n",
    "import seaborn as sns\n",
    "\n",
    "fig, (ax1, ax2, ax3, ax4) = plt.subplots(ncols=4, figsize=(20,5))\n",
    "ax1.set_title('Before Scaling')\n",
    "sns.kdeplot(iris_df['sepal length (cm)'], ax = ax1, color = 'r')\n",
    "sns.kdeplot(iris_df['sepal width (cm)'], ax = ax1, color = 'y')\n",
    "sns.kdeplot(iris_df['petal length (cm)'], ax = ax1, color = 'g')\n",
    "sns.kdeplot(iris_df['petal width (cm)'], ax = ax1, color = 'b')\n",
    "\n",
    "ax2.set_title('Standard Scaling')\n",
    "sns.kdeplot(iris_df_scaled['sepal length (cm)'], ax = ax2, color = 'r')\n",
    "sns.kdeplot(iris_df_scaled['sepal width (cm)'], ax = ax2, color = 'y')\n",
    "sns.kdeplot(iris_df_scaled['petal length (cm)'], ax = ax2, color = 'g')\n",
    "sns.kdeplot(iris_df_scaled['petal width (cm)'], ax = ax2, color = 'b')\n",
    "\n",
    "ax3.set_title('MinMax Scaling')\n",
    "sns.kdeplot(iris_df_mscaled['sepal length (cm)'], ax = ax3, color = 'r')\n",
    "sns.kdeplot(iris_df_mscaled['sepal width (cm)'], ax = ax3, color = 'y')\n",
    "sns.kdeplot(iris_df_mscaled['petal length (cm)'], ax = ax3, color = 'g')\n",
    "sns.kdeplot(iris_df_mscaled['petal width (cm)'], ax = ax3, color = 'b')\n",
    "\n",
    "ax4.set_title('Robust Scaling')\n",
    "sns.kdeplot(iris_df_rbscaled['sepal length (cm)'], ax = ax4, color = 'r')\n",
    "sns.kdeplot(iris_df_rbscaled['sepal width (cm)'], ax = ax4, color = 'y')\n",
    "sns.kdeplot(iris_df_rbscaled['petal length (cm)'], ax = ax4, color = 'g')\n",
    "sns.kdeplot(iris_df_rbscaled['petal width (cm)'], ax = ax4, color = 'b')\n",
    "\n",
    "plt.show()"
   ]
  },
  {
   "cell_type": "code",
   "execution_count": null,
   "id": "051be8b9",
   "metadata": {},
   "outputs": [],
   "source": []
  }
 ],
 "metadata": {
  "kernelspec": {
   "display_name": "Python 3 (ipykernel)",
   "language": "python",
   "name": "python3"
  },
  "language_info": {
   "codemirror_mode": {
    "name": "ipython",
    "version": 3
   },
   "file_extension": ".py",
   "mimetype": "text/x-python",
   "name": "python",
   "nbconvert_exporter": "python",
   "pygments_lexer": "ipython3",
   "version": "3.9.2"
  },
  "toc": {
   "base_numbering": 1,
   "nav_menu": {},
   "number_sections": true,
   "sideBar": true,
   "skip_h1_title": false,
   "title_cell": "Table of Contents",
   "title_sidebar": "Contents",
   "toc_cell": false,
   "toc_position": {},
   "toc_section_display": true,
   "toc_window_display": false
  },
  "varInspector": {
   "cols": {
    "lenName": 16,
    "lenType": 16,
    "lenVar": 40
   },
   "kernels_config": {
    "python": {
     "delete_cmd_postfix": "",
     "delete_cmd_prefix": "del ",
     "library": "var_list.py",
     "varRefreshCmd": "print(var_dic_list())"
    },
    "r": {
     "delete_cmd_postfix": ") ",
     "delete_cmd_prefix": "rm(",
     "library": "var_list.r",
     "varRefreshCmd": "cat(var_dic_list()) "
    }
   },
   "types_to_exclude": [
    "module",
    "function",
    "builtin_function_or_method",
    "instance",
    "_Feature"
   ],
   "window_display": false
  }
 },
 "nbformat": 4,
 "nbformat_minor": 5
}
