{
 "cells": [
  {
   "cell_type": "markdown",
   "id": "737e1b11",
   "metadata": {},
   "source": [
    "### GradientBoostingClassifier\n",
    "* from sklearn.ensemble import GradientBoostingClassifier\n",
    "* apply(X)\n",
    " * Apply trees in the ensemble to X, return leaf indices.\n",
    "* decision_function(X)\n",
    " * Compute the decision function of X.\n",
    "* fit(X, y[, sample_weight, monitor])\n",
    " * Fit the gradient boosting model.\n",
    "* get_params([deep])\n",
    " * Get parameters for this estimator.\n",
    "* predict(X)\n",
    " * Predict class for X.\n",
    "* predict_log_proba(X)\n",
    " * Predict class log-probabilities for X.\n",
    "* predict_proba(X)\n",
    " * Predict class probabilities for X.\n",
    "* score(X, y[, sample_weight])\n",
    " * Return the mean accuracy on the given test data and labels.\n",
    "* set_params(**params)\n",
    " * Set the parameters of this estimator.\n",
    "* staged_decision_function(X)\n",
    " * Compute decision function of X for each iteration.\n",
    "* staged_predict(X)\n",
    " * Predict class at each stage for X.\n",
    "* staged_predict_proba(X)\n",
    " * Predict class probabilities at each stage for X.\n",
    "* GradientBoostingClassifier(*, loss='log_loss', learning_rate=0.1, n_estimators=100, subsample=1.0, criterion='friedman_mse', min_samples_split=2, min_samples_leaf=1, min_weight_fraction_leaf=0.0, max_depth=3, min_impurity_decrease=0.0, init=None, random_state=None, max_features=None, verbose=0, max_leaf_nodes=None, warm_start=False, validation_fraction=0.1, n_iter_no_change=None, tol=0.0001, ccp_alpha=0.0)\n",
    "* https://scikit-learn.org/stable/modules/generated/sklearn.ensemble.GradientBoostingClassifier.html?highlight=gradientboostingclassifier#sklearn.ensemble.GradientBoostingClassifier"
   ]
  },
  {
   "cell_type": "code",
   "execution_count": 13,
   "id": "bf9d3723",
   "metadata": {
    "ExecuteTime": {
     "end_time": "2022-07-05T01:44:49.852061Z",
     "start_time": "2022-07-05T01:44:49.700472Z"
    }
   },
   "outputs": [
    {
     "name": "stdout",
     "output_type": "stream",
     "text": [
      "GBM 정확도: 0.9666666666666667\n"
     ]
    }
   ],
   "source": [
    "from sklearn.ensemble import GradientBoostingClassifier\n",
    "from sklearn.datasets import load_iris\n",
    "from sklearn.model_selection import train_test_split\n",
    "from sklearn.metrics import accuracy_score\n",
    "\n",
    "iris = load_iris()\n",
    "X_train, X_test, y_train, y_test = train_test_split(iris.data, iris.target,\n",
    "                                                   test_size=0.2, random_state=110)\n",
    "gb_clf = GradientBoostingClassifier(random_state=0)\n",
    "gb_clf.fit(X_train,y_train)\n",
    "pred = gb_clf.predict(X_test)\n",
    "gb_acc = accuracy_score(y_test,pred)\n",
    "\n",
    "print(f'GBM 정확도: {gb_acc}')"
   ]
  },
  {
   "cell_type": "code",
   "execution_count": 15,
   "id": "65206a5c",
   "metadata": {
    "ExecuteTime": {
     "end_time": "2022-07-05T01:46:57.298161Z",
     "start_time": "2022-07-05T01:46:54.963554Z"
    }
   },
   "outputs": [
    {
     "name": "stdout",
     "output_type": "stream",
     "text": [
      "Fitting 2 folds for each of 4 candidates, totalling 8 fits\n",
      "최적 하이퍼 파라미터:\n",
      " {'learning_rate': 0.05, 'n_estimators': 100}\n",
      "최고 예측 정확도: 0.95\n"
     ]
    }
   ],
   "source": [
    "from sklearn.model_selection import GridSearchCV\n",
    "\n",
    "params = {\n",
    "    'n_estimators':[100,500],\n",
    "    'learning_rate':[0.05,0.1]\n",
    "}\n",
    "grid_cv = GridSearchCV(gb_clf, param_grid=params , cv=2, verbose=1)\n",
    "grid_cv.fit(X_train,y_train)\n",
    "print('최적 하이퍼 파라미터:\\n', grid_cv.best_params_)\n",
    "print(f'최고 예측 정확도: {grid_cv.best_score_}')"
   ]
  },
  {
   "cell_type": "code",
   "execution_count": 14,
   "id": "0550391e",
   "metadata": {
    "ExecuteTime": {
     "end_time": "2022-07-05T01:45:25.314112Z",
     "start_time": "2022-07-05T01:45:25.301123Z"
    }
   },
   "outputs": [
    {
     "name": "stdout",
     "output_type": "stream",
     "text": [
      "GBM 정확도: 0.9666666666666667\n"
     ]
    }
   ],
   "source": [
    "# GridSearchCV를 이용하여 최적으로 학습된 esrimator로 predict 수행.\n",
    "pred = grid_cv.best_estimator_.predict(X_test)\n",
    "gb_acc = accuracy_score(y_test, pred)\n",
    "print(f'GBM 정확도: {gb_acc}')"
   ]
  },
  {
   "cell_type": "markdown",
   "id": "326dcc3b",
   "metadata": {},
   "source": [
    "### XGboost"
   ]
  },
  {
   "cell_type": "code",
   "execution_count": 24,
   "id": "ed50bff4",
   "metadata": {
    "ExecuteTime": {
     "end_time": "2022-07-05T02:36:26.490598Z",
     "start_time": "2022-07-05T02:36:26.428601Z"
    }
   },
   "outputs": [
    {
     "name": "stdout",
     "output_type": "stream",
     "text": [
      "XGB 정확도:0.9666666666666667\n"
     ]
    }
   ],
   "source": [
    "import xgboost as xgb\n",
    "from xgboost import XGBClassifier\n",
    "from sklearn.datasets import load_iris\n",
    "from sklearn.model_selection import train_test_split\n",
    "from sklearn.metrics import accuracy_score\n",
    "\n",
    "iris = load_iris()\n",
    "X_train, X_test, y_train, y_test = train_test_split(iris.data, iris.target,\n",
    "                                                   test_size=0.2, random_state=110)\n",
    "\n",
    "# Extreme Gradient Boosting (xgboost) 모델 사용\n",
    "\n",
    "# 1. 모델 선언\n",
    "xgb  = XGBClassifier()\n",
    "\n",
    "# 2. 모델 훈련 fit()함수\n",
    "xgb.fit(X_train, y_train)\n",
    "\n",
    "# 3. 모델 예측 predict()함수\n",
    "pred = xgb.predict(X_test)\n",
    "\n",
    "# 4. score()\n",
    "#xgb.score(X_train, y_train)\n",
    "\n",
    "xgb_acc = accuracy_score(pred,y_test)\n",
    "print(f'XGB 정확도:{xgb_acc}')"
   ]
  },
  {
   "cell_type": "markdown",
   "id": "1071a1b4",
   "metadata": {},
   "source": [
    "### AdaBoostClassifier\n",
    "* from sklearn.ensemble import AdaBoostClassifier\n",
    "* AdaBoostClassifier(base_estimator=None, *, n_estimators=50, learning_rate=1.0, algorithm='SAMME.R', random_state=None)\n",
    "* https://scikit-learn.org/stable/modules/generated/sklearn.ensemble.AdaBoostClassifier.html?highlight=ada#sklearn.ensemble.AdaBoostClassifier"
   ]
  },
  {
   "cell_type": "code",
   "execution_count": 27,
   "id": "192754af",
   "metadata": {
    "ExecuteTime": {
     "end_time": "2022-07-05T03:39:08.301869Z",
     "start_time": "2022-07-05T03:39:08.233009Z"
    }
   },
   "outputs": [
    {
     "name": "stdout",
     "output_type": "stream",
     "text": [
      "ADA 정확도: 0.9333333333333333\n"
     ]
    }
   ],
   "source": [
    "from sklearn.ensemble import AdaBoostClassifier\n",
    "from sklearn.model_selection import train_test_split\n",
    "from sklearn.datasets import load_iris\n",
    "from sklearn.metrics import accuracy_score\n",
    "\n",
    "# Load data\n",
    "iris = load_iris()\n",
    "# Split dataset into training set and test set\n",
    "X_train, X_test, y_train, y_test = train_test_split(iris.data, iris.target,\n",
    "                                                   test_size=0.2, random_state=110)\n",
    "\n",
    "# Create adaboost classifer object\n",
    "adb = AdaBoostClassifier(n_estimators=50,learning_rate=1)\n",
    "\n",
    "a_clf = adb.fit(X_train, y_train)\n",
    "pred = a_clf.predict(X_test)\n",
    "a_acc = accuracy_score(y_test,pred)\n",
    "print(f'ADA 정확도: {a_acc}')"
   ]
  },
  {
   "cell_type": "code",
   "execution_count": null,
   "id": "fcd315df",
   "metadata": {},
   "outputs": [],
   "source": []
  }
 ],
 "metadata": {
  "kernelspec": {
   "display_name": "Python 3 (ipykernel)",
   "language": "python",
   "name": "python3"
  },
  "language_info": {
   "codemirror_mode": {
    "name": "ipython",
    "version": 3
   },
   "file_extension": ".py",
   "mimetype": "text/x-python",
   "name": "python",
   "nbconvert_exporter": "python",
   "pygments_lexer": "ipython3",
   "version": "3.9.2"
  },
  "toc": {
   "base_numbering": 1,
   "nav_menu": {},
   "number_sections": true,
   "sideBar": true,
   "skip_h1_title": false,
   "title_cell": "Table of Contents",
   "title_sidebar": "Contents",
   "toc_cell": false,
   "toc_position": {},
   "toc_section_display": true,
   "toc_window_display": false
  },
  "varInspector": {
   "cols": {
    "lenName": 16,
    "lenType": 16,
    "lenVar": 40
   },
   "kernels_config": {
    "python": {
     "delete_cmd_postfix": "",
     "delete_cmd_prefix": "del ",
     "library": "var_list.py",
     "varRefreshCmd": "print(var_dic_list())"
    },
    "r": {
     "delete_cmd_postfix": ") ",
     "delete_cmd_prefix": "rm(",
     "library": "var_list.r",
     "varRefreshCmd": "cat(var_dic_list()) "
    }
   },
   "types_to_exclude": [
    "module",
    "function",
    "builtin_function_or_method",
    "instance",
    "_Feature"
   ],
   "window_display": false
  }
 },
 "nbformat": 4,
 "nbformat_minor": 5
}
